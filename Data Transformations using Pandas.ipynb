{
 "cells": [
  {
   "cell_type": "markdown",
   "metadata": {},
   "source": [
    "# Data Transformations in Pandas\n",
    "#### by Sukritha Joshi"
   ]
  },
  {
   "cell_type": "code",
   "execution_count": 1,
   "metadata": {},
   "outputs": [],
   "source": [
    "# importing required libraries\n",
    "import numpy as np\n",
    "import pandas as pd"
   ]
  },
  {
   "cell_type": "code",
   "execution_count": 2,
   "metadata": {},
   "outputs": [
    {
     "data": {
      "text/html": [
       "<div>\n",
       "<style scoped>\n",
       "    .dataframe tbody tr th:only-of-type {\n",
       "        vertical-align: middle;\n",
       "    }\n",
       "\n",
       "    .dataframe tbody tr th {\n",
       "        vertical-align: top;\n",
       "    }\n",
       "\n",
       "    .dataframe thead th {\n",
       "        text-align: right;\n",
       "    }\n",
       "</style>\n",
       "<table border=\"1\" class=\"dataframe\">\n",
       "  <thead>\n",
       "    <tr style=\"text-align: right;\">\n",
       "      <th></th>\n",
       "      <th>student names</th>\n",
       "    </tr>\n",
       "  </thead>\n",
       "  <tbody>\n",
       "    <tr>\n",
       "      <th>0</th>\n",
       "      <td>Sarah</td>\n",
       "    </tr>\n",
       "    <tr>\n",
       "      <th>1</th>\n",
       "      <td>Daniel</td>\n",
       "    </tr>\n",
       "    <tr>\n",
       "      <th>2</th>\n",
       "      <td>Smitha</td>\n",
       "    </tr>\n",
       "    <tr>\n",
       "      <th>3</th>\n",
       "      <td>Kiran</td>\n",
       "    </tr>\n",
       "    <tr>\n",
       "      <th>4</th>\n",
       "      <td>Hailey</td>\n",
       "    </tr>\n",
       "  </tbody>\n",
       "</table>\n",
       "</div>"
      ],
      "text/plain": [
       "  student names\n",
       "0         Sarah\n",
       "1        Daniel\n",
       "2        Smitha\n",
       "3         Kiran\n",
       "4        Hailey"
      ]
     },
     "execution_count": 2,
     "metadata": {},
     "output_type": "execute_result"
    }
   ],
   "source": [
    "# creating a students datframe\n",
    "df_students = pd.DataFrame(['Sarah', 'Daniel', 'Smitha', 'Kiran', 'Hailey'], columns=['student names'])\n",
    "df_students"
   ]
  },
  {
   "cell_type": "code",
   "execution_count": 3,
   "metadata": {},
   "outputs": [
    {
     "data": {
      "text/html": [
       "<div>\n",
       "<style scoped>\n",
       "    .dataframe tbody tr th:only-of-type {\n",
       "        vertical-align: middle;\n",
       "    }\n",
       "\n",
       "    .dataframe tbody tr th {\n",
       "        vertical-align: top;\n",
       "    }\n",
       "\n",
       "    .dataframe thead th {\n",
       "        text-align: right;\n",
       "    }\n",
       "</style>\n",
       "<table border=\"1\" class=\"dataframe\">\n",
       "  <thead>\n",
       "    <tr style=\"text-align: right;\">\n",
       "      <th></th>\n",
       "      <th>Test1</th>\n",
       "      <th>Test2</th>\n",
       "      <th>Test3</th>\n",
       "    </tr>\n",
       "  </thead>\n",
       "  <tbody>\n",
       "    <tr>\n",
       "      <th>0</th>\n",
       "      <td>5.52</td>\n",
       "      <td>9.39</td>\n",
       "      <td>3.10</td>\n",
       "    </tr>\n",
       "    <tr>\n",
       "      <th>1</th>\n",
       "      <td>7.43</td>\n",
       "      <td>7.97</td>\n",
       "      <td>3.32</td>\n",
       "    </tr>\n",
       "    <tr>\n",
       "      <th>2</th>\n",
       "      <td>4.14</td>\n",
       "      <td>5.91</td>\n",
       "      <td>3.84</td>\n",
       "    </tr>\n",
       "    <tr>\n",
       "      <th>3</th>\n",
       "      <td>2.90</td>\n",
       "      <td>7.00</td>\n",
       "      <td>1.84</td>\n",
       "    </tr>\n",
       "    <tr>\n",
       "      <th>4</th>\n",
       "      <td>2.61</td>\n",
       "      <td>0.27</td>\n",
       "      <td>9.43</td>\n",
       "    </tr>\n",
       "  </tbody>\n",
       "</table>\n",
       "</div>"
      ],
      "text/plain": [
       "   Test1  Test2  Test3\n",
       "0   5.52   9.39   3.10\n",
       "1   7.43   7.97   3.32\n",
       "2   4.14   5.91   3.84\n",
       "3   2.90   7.00   1.84\n",
       "4   2.61   0.27   9.43"
      ]
     },
     "execution_count": 3,
     "metadata": {},
     "output_type": "execute_result"
    }
   ],
   "source": [
    "# creating a table with random values for scores of students\n",
    "df_scores = (pd.DataFrame(np.random.uniform(low=0, high=10.1, size=(5,3)), columns=['Test1', 'Test2', 'Test3'])).round(2)\n",
    "df_scores"
   ]
  },
  {
   "cell_type": "code",
   "execution_count": 4,
   "metadata": {
    "scrolled": true
   },
   "outputs": [
    {
     "data": {
      "text/html": [
       "<div>\n",
       "<style scoped>\n",
       "    .dataframe tbody tr th:only-of-type {\n",
       "        vertical-align: middle;\n",
       "    }\n",
       "\n",
       "    .dataframe tbody tr th {\n",
       "        vertical-align: top;\n",
       "    }\n",
       "\n",
       "    .dataframe thead th {\n",
       "        text-align: right;\n",
       "    }\n",
       "</style>\n",
       "<table border=\"1\" class=\"dataframe\">\n",
       "  <thead>\n",
       "    <tr style=\"text-align: right;\">\n",
       "      <th></th>\n",
       "      <th>student names</th>\n",
       "      <th>Test1</th>\n",
       "      <th>Test2</th>\n",
       "      <th>Test3</th>\n",
       "    </tr>\n",
       "  </thead>\n",
       "  <tbody>\n",
       "    <tr>\n",
       "      <th>0</th>\n",
       "      <td>Sarah</td>\n",
       "      <td>5.52</td>\n",
       "      <td>9.39</td>\n",
       "      <td>3.10</td>\n",
       "    </tr>\n",
       "    <tr>\n",
       "      <th>1</th>\n",
       "      <td>Daniel</td>\n",
       "      <td>7.43</td>\n",
       "      <td>7.97</td>\n",
       "      <td>3.32</td>\n",
       "    </tr>\n",
       "    <tr>\n",
       "      <th>2</th>\n",
       "      <td>Smitha</td>\n",
       "      <td>4.14</td>\n",
       "      <td>5.91</td>\n",
       "      <td>3.84</td>\n",
       "    </tr>\n",
       "    <tr>\n",
       "      <th>3</th>\n",
       "      <td>Kiran</td>\n",
       "      <td>2.90</td>\n",
       "      <td>7.00</td>\n",
       "      <td>1.84</td>\n",
       "    </tr>\n",
       "    <tr>\n",
       "      <th>4</th>\n",
       "      <td>Hailey</td>\n",
       "      <td>2.61</td>\n",
       "      <td>0.27</td>\n",
       "      <td>9.43</td>\n",
       "    </tr>\n",
       "  </tbody>\n",
       "</table>\n",
       "</div>"
      ],
      "text/plain": [
       "  student names  Test1  Test2  Test3\n",
       "0         Sarah   5.52   9.39   3.10\n",
       "1        Daniel   7.43   7.97   3.32\n",
       "2        Smitha   4.14   5.91   3.84\n",
       "3         Kiran   2.90   7.00   1.84\n",
       "4        Hailey   2.61   0.27   9.43"
      ]
     },
     "execution_count": 4,
     "metadata": {},
     "output_type": "execute_result"
    }
   ],
   "source": [
    "# combining the 2 dataframes to form a final dataset\n",
    "df = pd.concat([df_students, df_scores], axis=1)\n",
    "df"
   ]
  },
  {
   "cell_type": "code",
   "execution_count": 5,
   "metadata": {},
   "outputs": [],
   "source": [
    "# starting the index numbers from 1 instead of 0\n",
    "df.index = np.arange(1, len(df)+1)"
   ]
  },
  {
   "cell_type": "code",
   "execution_count": 6,
   "metadata": {},
   "outputs": [
    {
     "data": {
      "text/html": [
       "<div>\n",
       "<style scoped>\n",
       "    .dataframe tbody tr th:only-of-type {\n",
       "        vertical-align: middle;\n",
       "    }\n",
       "\n",
       "    .dataframe tbody tr th {\n",
       "        vertical-align: top;\n",
       "    }\n",
       "\n",
       "    .dataframe thead th {\n",
       "        text-align: right;\n",
       "    }\n",
       "</style>\n",
       "<table border=\"1\" class=\"dataframe\">\n",
       "  <thead>\n",
       "    <tr style=\"text-align: right;\">\n",
       "      <th></th>\n",
       "      <th>student names</th>\n",
       "      <th>Test1</th>\n",
       "      <th>Test2</th>\n",
       "      <th>Test3</th>\n",
       "    </tr>\n",
       "  </thead>\n",
       "  <tbody>\n",
       "    <tr>\n",
       "      <th>1</th>\n",
       "      <td>Sarah</td>\n",
       "      <td>5.52</td>\n",
       "      <td>9.39</td>\n",
       "      <td>3.10</td>\n",
       "    </tr>\n",
       "    <tr>\n",
       "      <th>2</th>\n",
       "      <td>Daniel</td>\n",
       "      <td>7.43</td>\n",
       "      <td>7.97</td>\n",
       "      <td>3.32</td>\n",
       "    </tr>\n",
       "    <tr>\n",
       "      <th>3</th>\n",
       "      <td>Smitha</td>\n",
       "      <td>4.14</td>\n",
       "      <td>5.91</td>\n",
       "      <td>3.84</td>\n",
       "    </tr>\n",
       "    <tr>\n",
       "      <th>4</th>\n",
       "      <td>Kiran</td>\n",
       "      <td>2.90</td>\n",
       "      <td>7.00</td>\n",
       "      <td>1.84</td>\n",
       "    </tr>\n",
       "    <tr>\n",
       "      <th>5</th>\n",
       "      <td>Hailey</td>\n",
       "      <td>2.61</td>\n",
       "      <td>0.27</td>\n",
       "      <td>9.43</td>\n",
       "    </tr>\n",
       "  </tbody>\n",
       "</table>\n",
       "</div>"
      ],
      "text/plain": [
       "  student names  Test1  Test2  Test3\n",
       "1         Sarah   5.52   9.39   3.10\n",
       "2        Daniel   7.43   7.97   3.32\n",
       "3        Smitha   4.14   5.91   3.84\n",
       "4         Kiran   2.90   7.00   1.84\n",
       "5        Hailey   2.61   0.27   9.43"
      ]
     },
     "execution_count": 6,
     "metadata": {},
     "output_type": "execute_result"
    }
   ],
   "source": [
    "df"
   ]
  },
  {
   "cell_type": "code",
   "execution_count": 7,
   "metadata": {},
   "outputs": [
    {
     "data": {
      "text/html": [
       "<div>\n",
       "<style scoped>\n",
       "    .dataframe tbody tr th:only-of-type {\n",
       "        vertical-align: middle;\n",
       "    }\n",
       "\n",
       "    .dataframe tbody tr th {\n",
       "        vertical-align: top;\n",
       "    }\n",
       "\n",
       "    .dataframe thead th {\n",
       "        text-align: right;\n",
       "    }\n",
       "</style>\n",
       "<table border=\"1\" class=\"dataframe\">\n",
       "  <thead>\n",
       "    <tr style=\"text-align: right;\">\n",
       "      <th></th>\n",
       "      <th>StudentName</th>\n",
       "      <th>Test1</th>\n",
       "      <th>Test2</th>\n",
       "      <th>Test3</th>\n",
       "    </tr>\n",
       "  </thead>\n",
       "  <tbody>\n",
       "    <tr>\n",
       "      <th>1</th>\n",
       "      <td>Sarah</td>\n",
       "      <td>5.52</td>\n",
       "      <td>9.39</td>\n",
       "      <td>3.10</td>\n",
       "    </tr>\n",
       "    <tr>\n",
       "      <th>2</th>\n",
       "      <td>Daniel</td>\n",
       "      <td>7.43</td>\n",
       "      <td>7.97</td>\n",
       "      <td>3.32</td>\n",
       "    </tr>\n",
       "    <tr>\n",
       "      <th>3</th>\n",
       "      <td>Smitha</td>\n",
       "      <td>4.14</td>\n",
       "      <td>5.91</td>\n",
       "      <td>3.84</td>\n",
       "    </tr>\n",
       "    <tr>\n",
       "      <th>4</th>\n",
       "      <td>Kiran</td>\n",
       "      <td>2.90</td>\n",
       "      <td>7.00</td>\n",
       "      <td>1.84</td>\n",
       "    </tr>\n",
       "    <tr>\n",
       "      <th>5</th>\n",
       "      <td>Hailey</td>\n",
       "      <td>2.61</td>\n",
       "      <td>0.27</td>\n",
       "      <td>9.43</td>\n",
       "    </tr>\n",
       "  </tbody>\n",
       "</table>\n",
       "</div>"
      ],
      "text/plain": [
       "  StudentName  Test1  Test2  Test3\n",
       "1       Sarah   5.52   9.39   3.10\n",
       "2      Daniel   7.43   7.97   3.32\n",
       "3      Smitha   4.14   5.91   3.84\n",
       "4       Kiran   2.90   7.00   1.84\n",
       "5      Hailey   2.61   0.27   9.43"
      ]
     },
     "execution_count": 7,
     "metadata": {},
     "output_type": "execute_result"
    }
   ],
   "source": [
    "# renaming the name of the column\n",
    "df = df.rename({'student names':'StudentName'}, axis=1)\n",
    "df"
   ]
  },
  {
   "cell_type": "code",
   "execution_count": 8,
   "metadata": {},
   "outputs": [],
   "source": [
    "# the school has 3 mid terms, the average of the highest 2 exams is considered as the final grade\n",
    "# this is a function to calculte the final score of each student\n",
    "\n",
    "def best_of_3(a, b, c): \n",
    "    return max((a+b)/2, (b+c)/2, (c+a)/2)\n",
    "\n",
    "df['FinalScore'] = df.apply(lambda row : best_of_3(row['Test1'], row['Test2'], row['Test3']), axis = 1)\n",
    "df['FinalScore'] = df['FinalScore'].round(2)"
   ]
  },
  {
   "cell_type": "code",
   "execution_count": 13,
   "metadata": {},
   "outputs": [
    {
     "data": {
      "text/html": [
       "<div>\n",
       "<style scoped>\n",
       "    .dataframe tbody tr th:only-of-type {\n",
       "        vertical-align: middle;\n",
       "    }\n",
       "\n",
       "    .dataframe tbody tr th {\n",
       "        vertical-align: top;\n",
       "    }\n",
       "\n",
       "    .dataframe thead th {\n",
       "        text-align: right;\n",
       "    }\n",
       "</style>\n",
       "<table border=\"1\" class=\"dataframe\">\n",
       "  <thead>\n",
       "    <tr style=\"text-align: right;\">\n",
       "      <th></th>\n",
       "      <th>StudentName</th>\n",
       "      <th>Test1</th>\n",
       "      <th>Test2</th>\n",
       "      <th>Test3</th>\n",
       "      <th>FinalScore</th>\n",
       "    </tr>\n",
       "  </thead>\n",
       "  <tbody>\n",
       "    <tr>\n",
       "      <th>1</th>\n",
       "      <td>Sarah</td>\n",
       "      <td>5.52</td>\n",
       "      <td>9.39</td>\n",
       "      <td>3.10</td>\n",
       "      <td>7.46</td>\n",
       "    </tr>\n",
       "    <tr>\n",
       "      <th>2</th>\n",
       "      <td>Daniel</td>\n",
       "      <td>7.43</td>\n",
       "      <td>7.97</td>\n",
       "      <td>3.32</td>\n",
       "      <td>7.70</td>\n",
       "    </tr>\n",
       "    <tr>\n",
       "      <th>3</th>\n",
       "      <td>Smitha</td>\n",
       "      <td>4.14</td>\n",
       "      <td>5.91</td>\n",
       "      <td>3.84</td>\n",
       "      <td>5.03</td>\n",
       "    </tr>\n",
       "    <tr>\n",
       "      <th>4</th>\n",
       "      <td>Kiran</td>\n",
       "      <td>2.90</td>\n",
       "      <td>7.00</td>\n",
       "      <td>1.84</td>\n",
       "      <td>4.95</td>\n",
       "    </tr>\n",
       "    <tr>\n",
       "      <th>5</th>\n",
       "      <td>Hailey</td>\n",
       "      <td>2.61</td>\n",
       "      <td>0.27</td>\n",
       "      <td>9.43</td>\n",
       "      <td>6.02</td>\n",
       "    </tr>\n",
       "  </tbody>\n",
       "</table>\n",
       "</div>"
      ],
      "text/plain": [
       "  StudentName  Test1  Test2  Test3  FinalScore\n",
       "1       Sarah   5.52   9.39   3.10        7.46\n",
       "2      Daniel   7.43   7.97   3.32        7.70\n",
       "3      Smitha   4.14   5.91   3.84        5.03\n",
       "4       Kiran   2.90   7.00   1.84        4.95\n",
       "5      Hailey   2.61   0.27   9.43        6.02"
      ]
     },
     "execution_count": 13,
     "metadata": {},
     "output_type": "execute_result"
    }
   ],
   "source": [
    "# viewing the dataframe after adding the new column\n",
    "df"
   ]
  },
  {
   "cell_type": "code",
   "execution_count": 14,
   "metadata": {},
   "outputs": [
    {
     "data": {
      "text/html": [
       "<style  type=\"text/css\" >\n",
       "#T_d2d0ea9b_7b50_11eb_85d3_0897987a45ffrow0_col1,#T_d2d0ea9b_7b50_11eb_85d3_0897987a45ffrow0_col2,#T_d2d0ea9b_7b50_11eb_85d3_0897987a45ffrow0_col4,#T_d2d0ea9b_7b50_11eb_85d3_0897987a45ffrow1_col1,#T_d2d0ea9b_7b50_11eb_85d3_0897987a45ffrow1_col2,#T_d2d0ea9b_7b50_11eb_85d3_0897987a45ffrow1_col4,#T_d2d0ea9b_7b50_11eb_85d3_0897987a45ffrow2_col1,#T_d2d0ea9b_7b50_11eb_85d3_0897987a45ffrow2_col2,#T_d2d0ea9b_7b50_11eb_85d3_0897987a45ffrow2_col4,#T_d2d0ea9b_7b50_11eb_85d3_0897987a45ffrow3_col2,#T_d2d0ea9b_7b50_11eb_85d3_0897987a45ffrow3_col4,#T_d2d0ea9b_7b50_11eb_85d3_0897987a45ffrow4_col3,#T_d2d0ea9b_7b50_11eb_85d3_0897987a45ffrow4_col4{\n",
       "            background-color:  ;\n",
       "        }#T_d2d0ea9b_7b50_11eb_85d3_0897987a45ffrow0_col3,#T_d2d0ea9b_7b50_11eb_85d3_0897987a45ffrow1_col3,#T_d2d0ea9b_7b50_11eb_85d3_0897987a45ffrow2_col3,#T_d2d0ea9b_7b50_11eb_85d3_0897987a45ffrow3_col1,#T_d2d0ea9b_7b50_11eb_85d3_0897987a45ffrow3_col3,#T_d2d0ea9b_7b50_11eb_85d3_0897987a45ffrow4_col1,#T_d2d0ea9b_7b50_11eb_85d3_0897987a45ffrow4_col2{\n",
       "            background-color:  red;\n",
       "        }</style><table id=\"T_d2d0ea9b_7b50_11eb_85d3_0897987a45ff\" ><thead>    <tr>        <th class=\"blank level0\" ></th>        <th class=\"col_heading level0 col0\" >StudentName</th>        <th class=\"col_heading level0 col1\" >Test1</th>        <th class=\"col_heading level0 col2\" >Test2</th>        <th class=\"col_heading level0 col3\" >Test3</th>        <th class=\"col_heading level0 col4\" >FinalScore</th>    </tr></thead><tbody>\n",
       "                <tr>\n",
       "                        <th id=\"T_d2d0ea9b_7b50_11eb_85d3_0897987a45fflevel0_row0\" class=\"row_heading level0 row0\" >1</th>\n",
       "                        <td id=\"T_d2d0ea9b_7b50_11eb_85d3_0897987a45ffrow0_col0\" class=\"data row0 col0\" >Sarah</td>\n",
       "                        <td id=\"T_d2d0ea9b_7b50_11eb_85d3_0897987a45ffrow0_col1\" class=\"data row0 col1\" >5.520000</td>\n",
       "                        <td id=\"T_d2d0ea9b_7b50_11eb_85d3_0897987a45ffrow0_col2\" class=\"data row0 col2\" >9.390000</td>\n",
       "                        <td id=\"T_d2d0ea9b_7b50_11eb_85d3_0897987a45ffrow0_col3\" class=\"data row0 col3\" >3.100000</td>\n",
       "                        <td id=\"T_d2d0ea9b_7b50_11eb_85d3_0897987a45ffrow0_col4\" class=\"data row0 col4\" >7.460000</td>\n",
       "            </tr>\n",
       "            <tr>\n",
       "                        <th id=\"T_d2d0ea9b_7b50_11eb_85d3_0897987a45fflevel0_row1\" class=\"row_heading level0 row1\" >2</th>\n",
       "                        <td id=\"T_d2d0ea9b_7b50_11eb_85d3_0897987a45ffrow1_col0\" class=\"data row1 col0\" >Daniel</td>\n",
       "                        <td id=\"T_d2d0ea9b_7b50_11eb_85d3_0897987a45ffrow1_col1\" class=\"data row1 col1\" >7.430000</td>\n",
       "                        <td id=\"T_d2d0ea9b_7b50_11eb_85d3_0897987a45ffrow1_col2\" class=\"data row1 col2\" >7.970000</td>\n",
       "                        <td id=\"T_d2d0ea9b_7b50_11eb_85d3_0897987a45ffrow1_col3\" class=\"data row1 col3\" >3.320000</td>\n",
       "                        <td id=\"T_d2d0ea9b_7b50_11eb_85d3_0897987a45ffrow1_col4\" class=\"data row1 col4\" >7.700000</td>\n",
       "            </tr>\n",
       "            <tr>\n",
       "                        <th id=\"T_d2d0ea9b_7b50_11eb_85d3_0897987a45fflevel0_row2\" class=\"row_heading level0 row2\" >3</th>\n",
       "                        <td id=\"T_d2d0ea9b_7b50_11eb_85d3_0897987a45ffrow2_col0\" class=\"data row2 col0\" >Smitha</td>\n",
       "                        <td id=\"T_d2d0ea9b_7b50_11eb_85d3_0897987a45ffrow2_col1\" class=\"data row2 col1\" >4.140000</td>\n",
       "                        <td id=\"T_d2d0ea9b_7b50_11eb_85d3_0897987a45ffrow2_col2\" class=\"data row2 col2\" >5.910000</td>\n",
       "                        <td id=\"T_d2d0ea9b_7b50_11eb_85d3_0897987a45ffrow2_col3\" class=\"data row2 col3\" >3.840000</td>\n",
       "                        <td id=\"T_d2d0ea9b_7b50_11eb_85d3_0897987a45ffrow2_col4\" class=\"data row2 col4\" >5.030000</td>\n",
       "            </tr>\n",
       "            <tr>\n",
       "                        <th id=\"T_d2d0ea9b_7b50_11eb_85d3_0897987a45fflevel0_row3\" class=\"row_heading level0 row3\" >4</th>\n",
       "                        <td id=\"T_d2d0ea9b_7b50_11eb_85d3_0897987a45ffrow3_col0\" class=\"data row3 col0\" >Kiran</td>\n",
       "                        <td id=\"T_d2d0ea9b_7b50_11eb_85d3_0897987a45ffrow3_col1\" class=\"data row3 col1\" >2.900000</td>\n",
       "                        <td id=\"T_d2d0ea9b_7b50_11eb_85d3_0897987a45ffrow3_col2\" class=\"data row3 col2\" >7.000000</td>\n",
       "                        <td id=\"T_d2d0ea9b_7b50_11eb_85d3_0897987a45ffrow3_col3\" class=\"data row3 col3\" >1.840000</td>\n",
       "                        <td id=\"T_d2d0ea9b_7b50_11eb_85d3_0897987a45ffrow3_col4\" class=\"data row3 col4\" >4.950000</td>\n",
       "            </tr>\n",
       "            <tr>\n",
       "                        <th id=\"T_d2d0ea9b_7b50_11eb_85d3_0897987a45fflevel0_row4\" class=\"row_heading level0 row4\" >5</th>\n",
       "                        <td id=\"T_d2d0ea9b_7b50_11eb_85d3_0897987a45ffrow4_col0\" class=\"data row4 col0\" >Hailey</td>\n",
       "                        <td id=\"T_d2d0ea9b_7b50_11eb_85d3_0897987a45ffrow4_col1\" class=\"data row4 col1\" >2.610000</td>\n",
       "                        <td id=\"T_d2d0ea9b_7b50_11eb_85d3_0897987a45ffrow4_col2\" class=\"data row4 col2\" >0.270000</td>\n",
       "                        <td id=\"T_d2d0ea9b_7b50_11eb_85d3_0897987a45ffrow4_col3\" class=\"data row4 col3\" >9.430000</td>\n",
       "                        <td id=\"T_d2d0ea9b_7b50_11eb_85d3_0897987a45ffrow4_col4\" class=\"data row4 col4\" >6.020000</td>\n",
       "            </tr>\n",
       "    </tbody></table>"
      ],
      "text/plain": [
       "<pandas.io.formats.style.Styler at 0x22b898ae6d0>"
      ]
     },
     "execution_count": 14,
     "metadata": {},
     "output_type": "execute_result"
    }
   ],
   "source": [
    "# if a student has scored below 4, he/she has failed and will have to re-attempt the class.\n",
    "# the below dataframe highlights the scores below 4\n",
    "\n",
    "df.style.applymap(lambda x: \"background-color: red\" if x<4 else \"background-color: \", subset=df.columns[1:5])"
   ]
  },
  {
   "cell_type": "code",
   "execution_count": null,
   "metadata": {},
   "outputs": [],
   "source": [
    "# finally let's add a column which explicitly states whether or not a student has passed\n",
    "\n",
    "def result(FinalScore):\n",
    "    if FinalScore < 4:\n",
    "        return 'fail'\n",
    "    else:\n",
    "        return 'pass'\n",
    "\n",
    "df['Result'] = df.apply(lambda row : result(row['FinalScore']), axis = 1)"
   ]
  },
  {
   "cell_type": "code",
   "execution_count": null,
   "metadata": {
    "scrolled": true
   },
   "outputs": [],
   "source": [
    "df"
   ]
  },
  {
   "cell_type": "code",
   "execution_count": null,
   "metadata": {},
   "outputs": [],
   "source": [
    "df.style.applymap(lambda x: \"background-color: red\" if x=='fail' else \"background-color: lime\", subset=['Result'])"
   ]
  },
  {
   "cell_type": "code",
   "execution_count": null,
   "metadata": {},
   "outputs": [],
   "source": [
    "df.style.applymap(lambda x: \"background-color: red\" if x=='fail' else \"background-color: lime\", subset=['Result']).to_excel('Result.xlsx')"
   ]
  },
  {
   "cell_type": "markdown",
   "metadata": {},
   "source": [
    "### data set 2"
   ]
  },
  {
   "cell_type": "code",
   "execution_count": 19,
   "metadata": {},
   "outputs": [],
   "source": [
    "df2 = pd.read_csv('student-mat.csv', sep=';')"
   ]
  },
  {
   "cell_type": "code",
   "execution_count": 20,
   "metadata": {},
   "outputs": [
    {
     "data": {
      "text/html": [
       "<div>\n",
       "<style scoped>\n",
       "    .dataframe tbody tr th:only-of-type {\n",
       "        vertical-align: middle;\n",
       "    }\n",
       "\n",
       "    .dataframe tbody tr th {\n",
       "        vertical-align: top;\n",
       "    }\n",
       "\n",
       "    .dataframe thead th {\n",
       "        text-align: right;\n",
       "    }\n",
       "</style>\n",
       "<table border=\"1\" class=\"dataframe\">\n",
       "  <thead>\n",
       "    <tr style=\"text-align: right;\">\n",
       "      <th></th>\n",
       "      <th>school</th>\n",
       "      <th>sex</th>\n",
       "      <th>age</th>\n",
       "      <th>address</th>\n",
       "      <th>health</th>\n",
       "      <th>absences</th>\n",
       "      <th>G1</th>\n",
       "      <th>G2</th>\n",
       "      <th>G3</th>\n",
       "    </tr>\n",
       "  </thead>\n",
       "  <tbody>\n",
       "    <tr>\n",
       "      <th>0</th>\n",
       "      <td>GP</td>\n",
       "      <td>F</td>\n",
       "      <td>18</td>\n",
       "      <td>U</td>\n",
       "      <td>3.0</td>\n",
       "      <td>6.0</td>\n",
       "      <td>5</td>\n",
       "      <td>6</td>\n",
       "      <td>6</td>\n",
       "    </tr>\n",
       "    <tr>\n",
       "      <th>1</th>\n",
       "      <td>GP</td>\n",
       "      <td>F</td>\n",
       "      <td>17</td>\n",
       "      <td>U</td>\n",
       "      <td>3.0</td>\n",
       "      <td>4.0</td>\n",
       "      <td>5</td>\n",
       "      <td>5</td>\n",
       "      <td>6</td>\n",
       "    </tr>\n",
       "    <tr>\n",
       "      <th>2</th>\n",
       "      <td>GP</td>\n",
       "      <td>F</td>\n",
       "      <td>15</td>\n",
       "      <td>U</td>\n",
       "      <td>3.0</td>\n",
       "      <td>10.0</td>\n",
       "      <td>7</td>\n",
       "      <td>8</td>\n",
       "      <td>10</td>\n",
       "    </tr>\n",
       "    <tr>\n",
       "      <th>3</th>\n",
       "      <td>GP</td>\n",
       "      <td>F</td>\n",
       "      <td>15</td>\n",
       "      <td>U</td>\n",
       "      <td>5.0</td>\n",
       "      <td>2.0</td>\n",
       "      <td>15</td>\n",
       "      <td>14</td>\n",
       "      <td>15</td>\n",
       "    </tr>\n",
       "    <tr>\n",
       "      <th>4</th>\n",
       "      <td>GP</td>\n",
       "      <td>F</td>\n",
       "      <td>16</td>\n",
       "      <td>U</td>\n",
       "      <td>5.0</td>\n",
       "      <td>4.0</td>\n",
       "      <td>6</td>\n",
       "      <td>10</td>\n",
       "      <td>10</td>\n",
       "    </tr>\n",
       "  </tbody>\n",
       "</table>\n",
       "</div>"
      ],
      "text/plain": [
       "  school sex  age address  health  absences  G1  G2  G3\n",
       "0     GP   F   18       U     3.0       6.0   5   6   6\n",
       "1     GP   F   17       U     3.0       4.0   5   5   6\n",
       "2     GP   F   15       U     3.0      10.0   7   8  10\n",
       "3     GP   F   15       U     5.0       2.0  15  14  15\n",
       "4     GP   F   16       U     5.0       4.0   6  10  10"
      ]
     },
     "execution_count": 20,
     "metadata": {},
     "output_type": "execute_result"
    }
   ],
   "source": [
    "df2.head()"
   ]
  },
  {
   "cell_type": "code",
   "execution_count": 21,
   "metadata": {},
   "outputs": [
    {
     "name": "stdout",
     "output_type": "stream",
     "text": [
      "<class 'pandas.core.frame.DataFrame'>\n",
      "RangeIndex: 395 entries, 0 to 394\n",
      "Data columns (total 9 columns):\n",
      " #   Column    Non-Null Count  Dtype  \n",
      "---  ------    --------------  -----  \n",
      " 0   school    395 non-null    object \n",
      " 1   sex       395 non-null    object \n",
      " 2   age       395 non-null    int64  \n",
      " 3   address   378 non-null    object \n",
      " 4   health    384 non-null    float64\n",
      " 5   absences  380 non-null    float64\n",
      " 6   G1        395 non-null    int64  \n",
      " 7   G2        395 non-null    int64  \n",
      " 8   G3        395 non-null    int64  \n",
      "dtypes: float64(2), int64(4), object(3)\n",
      "memory usage: 27.9+ KB\n"
     ]
    }
   ],
   "source": [
    "df2.info()"
   ]
  },
  {
   "cell_type": "code",
   "execution_count": 22,
   "metadata": {
    "scrolled": false
   },
   "outputs": [
    {
     "data": {
      "text/plain": [
       "school       0\n",
       "sex          0\n",
       "age          0\n",
       "address     17\n",
       "health      11\n",
       "absences    15\n",
       "G1           0\n",
       "G2           0\n",
       "G3           0\n",
       "dtype: int64"
      ]
     },
     "execution_count": 22,
     "metadata": {},
     "output_type": "execute_result"
    }
   ],
   "source": [
    "df2.isnull().sum()"
   ]
  },
  {
   "cell_type": "code",
   "execution_count": 26,
   "metadata": {},
   "outputs": [
    {
     "data": {
      "text/html": [
       "<div>\n",
       "<style scoped>\n",
       "    .dataframe tbody tr th:only-of-type {\n",
       "        vertical-align: middle;\n",
       "    }\n",
       "\n",
       "    .dataframe tbody tr th {\n",
       "        vertical-align: top;\n",
       "    }\n",
       "\n",
       "    .dataframe thead th {\n",
       "        text-align: right;\n",
       "    }\n",
       "</style>\n",
       "<table border=\"1\" class=\"dataframe\">\n",
       "  <thead>\n",
       "    <tr style=\"text-align: right;\">\n",
       "      <th></th>\n",
       "      <th>Total</th>\n",
       "      <th>%</th>\n",
       "    </tr>\n",
       "  </thead>\n",
       "  <tbody>\n",
       "    <tr>\n",
       "      <th>address</th>\n",
       "      <td>17</td>\n",
       "      <td>4.3</td>\n",
       "    </tr>\n",
       "    <tr>\n",
       "      <th>absences</th>\n",
       "      <td>15</td>\n",
       "      <td>3.8</td>\n",
       "    </tr>\n",
       "    <tr>\n",
       "      <th>health</th>\n",
       "      <td>11</td>\n",
       "      <td>2.8</td>\n",
       "    </tr>\n",
       "    <tr>\n",
       "      <th>G3</th>\n",
       "      <td>0</td>\n",
       "      <td>0.0</td>\n",
       "    </tr>\n",
       "    <tr>\n",
       "      <th>G2</th>\n",
       "      <td>0</td>\n",
       "      <td>0.0</td>\n",
       "    </tr>\n",
       "    <tr>\n",
       "      <th>G1</th>\n",
       "      <td>0</td>\n",
       "      <td>0.0</td>\n",
       "    </tr>\n",
       "    <tr>\n",
       "      <th>age</th>\n",
       "      <td>0</td>\n",
       "      <td>0.0</td>\n",
       "    </tr>\n",
       "    <tr>\n",
       "      <th>sex</th>\n",
       "      <td>0</td>\n",
       "      <td>0.0</td>\n",
       "    </tr>\n",
       "    <tr>\n",
       "      <th>school</th>\n",
       "      <td>0</td>\n",
       "      <td>0.0</td>\n",
       "    </tr>\n",
       "  </tbody>\n",
       "</table>\n",
       "</div>"
      ],
      "text/plain": [
       "          Total    %\n",
       "address      17  4.3\n",
       "absences     15  3.8\n",
       "health       11  2.8\n",
       "G3            0  0.0\n",
       "G2            0  0.0\n",
       "G1            0  0.0\n",
       "age           0  0.0\n",
       "sex           0  0.0\n",
       "school        0  0.0"
      ]
     },
     "execution_count": 26,
     "metadata": {},
     "output_type": "execute_result"
    }
   ],
   "source": [
    "# finding the number of missing records and its percentage\n",
    "\n",
    "total = df2.isnull().sum().sort_values(ascending=False)\n",
    "percent = (round((df2.isnull().sum()/df2.isnull().count()*100),1))\n",
    "missing_data = pd.concat([total, percent], axis=1, keys=['Total', '%'])\n",
    "missing_data"
   ]
  },
  {
   "cell_type": "code",
   "execution_count": 27,
   "metadata": {},
   "outputs": [],
   "source": [
    "# dropping the null records from health and absences columns since it is a small percentage\n",
    "df2.dropna(subset=['health', 'absences'], inplace=True)"
   ]
  },
  {
   "cell_type": "code",
   "execution_count": 28,
   "metadata": {},
   "outputs": [
    {
     "data": {
      "text/plain": [
       "school       0\n",
       "sex          0\n",
       "age          0\n",
       "address     15\n",
       "health       0\n",
       "absences     0\n",
       "G1           0\n",
       "G2           0\n",
       "G3           0\n",
       "dtype: int64"
      ]
     },
     "execution_count": 28,
     "metadata": {},
     "output_type": "execute_result"
    }
   ],
   "source": [
    "df2.isnull().sum()"
   ]
  },
  {
   "cell_type": "code",
   "execution_count": 29,
   "metadata": {},
   "outputs": [
    {
     "data": {
      "text/plain": [
       "U    276\n",
       "R     79\n",
       "Name: address, dtype: int64"
      ]
     },
     "execution_count": 29,
     "metadata": {},
     "output_type": "execute_result"
    }
   ],
   "source": [
    "df2.address.value_counts()"
   ]
  },
  {
   "cell_type": "code",
   "execution_count": 30,
   "metadata": {},
   "outputs": [],
   "source": [
    "# to handle missing data in address column, we can replace the Nan values with the most frequently occuring category in the column\n",
    "# this method has a the disadvantage that it may imbalance the dataset\n",
    "\n",
    "df2.fillna(value = df2['address'].value_counts().idxmax(), inplace=True)\n"
   ]
  },
  {
   "cell_type": "code",
   "execution_count": 31,
   "metadata": {
    "scrolled": true
   },
   "outputs": [
    {
     "data": {
      "text/plain": [
       "school      0\n",
       "sex         0\n",
       "age         0\n",
       "address     0\n",
       "health      0\n",
       "absences    0\n",
       "G1          0\n",
       "G2          0\n",
       "G3          0\n",
       "dtype: int64"
      ]
     },
     "execution_count": 31,
     "metadata": {},
     "output_type": "execute_result"
    }
   ],
   "source": [
    "df2.isnull().sum()"
   ]
  },
  {
   "cell_type": "markdown",
   "metadata": {},
   "source": [
    "                                                    ---x----  end  ----x---"
   ]
  }
 ],
 "metadata": {
  "kernelspec": {
   "display_name": "Python 3",
   "language": "python",
   "name": "python3"
  },
  "language_info": {
   "codemirror_mode": {
    "name": "ipython",
    "version": 3
   },
   "file_extension": ".py",
   "mimetype": "text/x-python",
   "name": "python",
   "nbconvert_exporter": "python",
   "pygments_lexer": "ipython3",
   "version": "3.8.3"
  }
 },
 "nbformat": 4,
 "nbformat_minor": 4
}
