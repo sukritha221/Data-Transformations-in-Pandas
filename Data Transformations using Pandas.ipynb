{
 "cells": [
  {
   "cell_type": "markdown",
   "metadata": {},
   "source": [
    "# Data Transformations in Pandas\n",
    "#### by Sukritha Joshi"
   ]
  },
  {
   "cell_type": "code",
   "execution_count": 1,
   "metadata": {},
   "outputs": [],
   "source": [
    "# importing required libraries\n",
    "import numpy as np\n",
    "import pandas as pd"
   ]
  },
  {
   "cell_type": "code",
   "execution_count": 2,
   "metadata": {},
   "outputs": [
    {
     "data": {
      "text/html": [
       "<div>\n",
       "<style scoped>\n",
       "    .dataframe tbody tr th:only-of-type {\n",
       "        vertical-align: middle;\n",
       "    }\n",
       "\n",
       "    .dataframe tbody tr th {\n",
       "        vertical-align: top;\n",
       "    }\n",
       "\n",
       "    .dataframe thead th {\n",
       "        text-align: right;\n",
       "    }\n",
       "</style>\n",
       "<table border=\"1\" class=\"dataframe\">\n",
       "  <thead>\n",
       "    <tr style=\"text-align: right;\">\n",
       "      <th></th>\n",
       "      <th>student names</th>\n",
       "    </tr>\n",
       "  </thead>\n",
       "  <tbody>\n",
       "    <tr>\n",
       "      <th>0</th>\n",
       "      <td>Sarah</td>\n",
       "    </tr>\n",
       "    <tr>\n",
       "      <th>1</th>\n",
       "      <td>Daniel</td>\n",
       "    </tr>\n",
       "    <tr>\n",
       "      <th>2</th>\n",
       "      <td>Smitha</td>\n",
       "    </tr>\n",
       "    <tr>\n",
       "      <th>3</th>\n",
       "      <td>Kiran</td>\n",
       "    </tr>\n",
       "    <tr>\n",
       "      <th>4</th>\n",
       "      <td>Hailey</td>\n",
       "    </tr>\n",
       "  </tbody>\n",
       "</table>\n",
       "</div>"
      ],
      "text/plain": [
       "  student names\n",
       "0         Sarah\n",
       "1        Daniel\n",
       "2        Smitha\n",
       "3         Kiran\n",
       "4        Hailey"
      ]
     },
     "execution_count": 2,
     "metadata": {},
     "output_type": "execute_result"
    }
   ],
   "source": [
    "# creating a students datframe\n",
    "df_students = pd.DataFrame(['Sarah', 'Daniel', 'Smitha', 'Kiran', 'Hailey'], columns=['student names'])\n",
    "df_students"
   ]
  },
  {
   "cell_type": "code",
   "execution_count": 3,
   "metadata": {},
   "outputs": [
    {
     "data": {
      "text/html": [
       "<div>\n",
       "<style scoped>\n",
       "    .dataframe tbody tr th:only-of-type {\n",
       "        vertical-align: middle;\n",
       "    }\n",
       "\n",
       "    .dataframe tbody tr th {\n",
       "        vertical-align: top;\n",
       "    }\n",
       "\n",
       "    .dataframe thead th {\n",
       "        text-align: right;\n",
       "    }\n",
       "</style>\n",
       "<table border=\"1\" class=\"dataframe\">\n",
       "  <thead>\n",
       "    <tr style=\"text-align: right;\">\n",
       "      <th></th>\n",
       "      <th>Test1</th>\n",
       "      <th>Test2</th>\n",
       "      <th>Test3</th>\n",
       "    </tr>\n",
       "  </thead>\n",
       "  <tbody>\n",
       "    <tr>\n",
       "      <th>0</th>\n",
       "      <td>7.59</td>\n",
       "      <td>8.33</td>\n",
       "      <td>5.31</td>\n",
       "    </tr>\n",
       "    <tr>\n",
       "      <th>1</th>\n",
       "      <td>1.58</td>\n",
       "      <td>9.46</td>\n",
       "      <td>7.88</td>\n",
       "    </tr>\n",
       "    <tr>\n",
       "      <th>2</th>\n",
       "      <td>5.86</td>\n",
       "      <td>8.29</td>\n",
       "      <td>5.45</td>\n",
       "    </tr>\n",
       "    <tr>\n",
       "      <th>3</th>\n",
       "      <td>4.81</td>\n",
       "      <td>9.00</td>\n",
       "      <td>4.83</td>\n",
       "    </tr>\n",
       "    <tr>\n",
       "      <th>4</th>\n",
       "      <td>5.75</td>\n",
       "      <td>7.01</td>\n",
       "      <td>4.35</td>\n",
       "    </tr>\n",
       "  </tbody>\n",
       "</table>\n",
       "</div>"
      ],
      "text/plain": [
       "   Test1  Test2  Test3\n",
       "0   7.59   8.33   5.31\n",
       "1   1.58   9.46   7.88\n",
       "2   5.86   8.29   5.45\n",
       "3   4.81   9.00   4.83\n",
       "4   5.75   7.01   4.35"
      ]
     },
     "execution_count": 3,
     "metadata": {},
     "output_type": "execute_result"
    }
   ],
   "source": [
    "# creating a table with random values for scores of students\n",
    "df_scores = (pd.DataFrame(np.random.uniform(low=0, high=10, size=(5,3)), columns=['Test1', 'Test2', 'Test3'])).round(2)\n",
    "df_scores"
   ]
  },
  {
   "cell_type": "code",
   "execution_count": 4,
   "metadata": {
    "scrolled": true
   },
   "outputs": [
    {
     "data": {
      "text/html": [
       "<div>\n",
       "<style scoped>\n",
       "    .dataframe tbody tr th:only-of-type {\n",
       "        vertical-align: middle;\n",
       "    }\n",
       "\n",
       "    .dataframe tbody tr th {\n",
       "        vertical-align: top;\n",
       "    }\n",
       "\n",
       "    .dataframe thead th {\n",
       "        text-align: right;\n",
       "    }\n",
       "</style>\n",
       "<table border=\"1\" class=\"dataframe\">\n",
       "  <thead>\n",
       "    <tr style=\"text-align: right;\">\n",
       "      <th></th>\n",
       "      <th>student names</th>\n",
       "      <th>Test1</th>\n",
       "      <th>Test2</th>\n",
       "      <th>Test3</th>\n",
       "    </tr>\n",
       "  </thead>\n",
       "  <tbody>\n",
       "    <tr>\n",
       "      <th>0</th>\n",
       "      <td>Sarah</td>\n",
       "      <td>7.59</td>\n",
       "      <td>8.33</td>\n",
       "      <td>5.31</td>\n",
       "    </tr>\n",
       "    <tr>\n",
       "      <th>1</th>\n",
       "      <td>Daniel</td>\n",
       "      <td>1.58</td>\n",
       "      <td>9.46</td>\n",
       "      <td>7.88</td>\n",
       "    </tr>\n",
       "    <tr>\n",
       "      <th>2</th>\n",
       "      <td>Smitha</td>\n",
       "      <td>5.86</td>\n",
       "      <td>8.29</td>\n",
       "      <td>5.45</td>\n",
       "    </tr>\n",
       "    <tr>\n",
       "      <th>3</th>\n",
       "      <td>Kiran</td>\n",
       "      <td>4.81</td>\n",
       "      <td>9.00</td>\n",
       "      <td>4.83</td>\n",
       "    </tr>\n",
       "    <tr>\n",
       "      <th>4</th>\n",
       "      <td>Hailey</td>\n",
       "      <td>5.75</td>\n",
       "      <td>7.01</td>\n",
       "      <td>4.35</td>\n",
       "    </tr>\n",
       "  </tbody>\n",
       "</table>\n",
       "</div>"
      ],
      "text/plain": [
       "  student names  Test1  Test2  Test3\n",
       "0         Sarah   7.59   8.33   5.31\n",
       "1        Daniel   1.58   9.46   7.88\n",
       "2        Smitha   5.86   8.29   5.45\n",
       "3         Kiran   4.81   9.00   4.83\n",
       "4        Hailey   5.75   7.01   4.35"
      ]
     },
     "execution_count": 4,
     "metadata": {},
     "output_type": "execute_result"
    }
   ],
   "source": [
    "# combining the 2 dataframes to form a final dataset\n",
    "df = pd.concat([df_students, df_scores], axis=1)\n",
    "df"
   ]
  },
  {
   "cell_type": "code",
   "execution_count": 5,
   "metadata": {},
   "outputs": [],
   "source": [
    "# starting the index numbers from 1 instead of 0\n",
    "df.index = np.arange(1, len(df)+1)"
   ]
  },
  {
   "cell_type": "code",
   "execution_count": 6,
   "metadata": {},
   "outputs": [
    {
     "data": {
      "text/html": [
       "<div>\n",
       "<style scoped>\n",
       "    .dataframe tbody tr th:only-of-type {\n",
       "        vertical-align: middle;\n",
       "    }\n",
       "\n",
       "    .dataframe tbody tr th {\n",
       "        vertical-align: top;\n",
       "    }\n",
       "\n",
       "    .dataframe thead th {\n",
       "        text-align: right;\n",
       "    }\n",
       "</style>\n",
       "<table border=\"1\" class=\"dataframe\">\n",
       "  <thead>\n",
       "    <tr style=\"text-align: right;\">\n",
       "      <th></th>\n",
       "      <th>StudentName</th>\n",
       "      <th>Test1</th>\n",
       "      <th>Test2</th>\n",
       "      <th>Test3</th>\n",
       "    </tr>\n",
       "  </thead>\n",
       "  <tbody>\n",
       "    <tr>\n",
       "      <th>1</th>\n",
       "      <td>Sarah</td>\n",
       "      <td>7.59</td>\n",
       "      <td>8.33</td>\n",
       "      <td>5.31</td>\n",
       "    </tr>\n",
       "    <tr>\n",
       "      <th>2</th>\n",
       "      <td>Daniel</td>\n",
       "      <td>1.58</td>\n",
       "      <td>9.46</td>\n",
       "      <td>7.88</td>\n",
       "    </tr>\n",
       "    <tr>\n",
       "      <th>3</th>\n",
       "      <td>Smitha</td>\n",
       "      <td>5.86</td>\n",
       "      <td>8.29</td>\n",
       "      <td>5.45</td>\n",
       "    </tr>\n",
       "    <tr>\n",
       "      <th>4</th>\n",
       "      <td>Kiran</td>\n",
       "      <td>4.81</td>\n",
       "      <td>9.00</td>\n",
       "      <td>4.83</td>\n",
       "    </tr>\n",
       "    <tr>\n",
       "      <th>5</th>\n",
       "      <td>Hailey</td>\n",
       "      <td>5.75</td>\n",
       "      <td>7.01</td>\n",
       "      <td>4.35</td>\n",
       "    </tr>\n",
       "  </tbody>\n",
       "</table>\n",
       "</div>"
      ],
      "text/plain": [
       "  StudentName  Test1  Test2  Test3\n",
       "1       Sarah   7.59   8.33   5.31\n",
       "2      Daniel   1.58   9.46   7.88\n",
       "3      Smitha   5.86   8.29   5.45\n",
       "4       Kiran   4.81   9.00   4.83\n",
       "5      Hailey   5.75   7.01   4.35"
      ]
     },
     "execution_count": 6,
     "metadata": {},
     "output_type": "execute_result"
    }
   ],
   "source": [
    "# renaming the name of the column\n",
    "df = df.rename({'student names':'StudentName'}, axis=1)\n",
    "df"
   ]
  },
  {
   "cell_type": "code",
   "execution_count": 7,
   "metadata": {},
   "outputs": [],
   "source": [
    "# the school has 3 mid terms, the average of the highest 2 exams is considered as the final grade\n",
    "# this is a function to calculte the final score of each student\n",
    "\n",
    "def best_of_3(a, b, c): \n",
    "    return max((a+b)/2, (b+c)/2, (c+a)/2)\n",
    "\n",
    "df['FinalScore'] = df.apply(lambda row : best_of_3(row['Test1'], row['Test2'], row['Test3']), axis = 1)\n",
    "df['FinalScore'] = df['FinalScore'].round(2)"
   ]
  },
  {
   "cell_type": "code",
   "execution_count": 8,
   "metadata": {},
   "outputs": [
    {
     "data": {
      "text/html": [
       "<div>\n",
       "<style scoped>\n",
       "    .dataframe tbody tr th:only-of-type {\n",
       "        vertical-align: middle;\n",
       "    }\n",
       "\n",
       "    .dataframe tbody tr th {\n",
       "        vertical-align: top;\n",
       "    }\n",
       "\n",
       "    .dataframe thead th {\n",
       "        text-align: right;\n",
       "    }\n",
       "</style>\n",
       "<table border=\"1\" class=\"dataframe\">\n",
       "  <thead>\n",
       "    <tr style=\"text-align: right;\">\n",
       "      <th></th>\n",
       "      <th>StudentName</th>\n",
       "      <th>Test1</th>\n",
       "      <th>Test2</th>\n",
       "      <th>Test3</th>\n",
       "      <th>FinalScore</th>\n",
       "    </tr>\n",
       "  </thead>\n",
       "  <tbody>\n",
       "    <tr>\n",
       "      <th>1</th>\n",
       "      <td>Sarah</td>\n",
       "      <td>7.59</td>\n",
       "      <td>8.33</td>\n",
       "      <td>5.31</td>\n",
       "      <td>7.96</td>\n",
       "    </tr>\n",
       "    <tr>\n",
       "      <th>2</th>\n",
       "      <td>Daniel</td>\n",
       "      <td>1.58</td>\n",
       "      <td>9.46</td>\n",
       "      <td>7.88</td>\n",
       "      <td>8.67</td>\n",
       "    </tr>\n",
       "    <tr>\n",
       "      <th>3</th>\n",
       "      <td>Smitha</td>\n",
       "      <td>5.86</td>\n",
       "      <td>8.29</td>\n",
       "      <td>5.45</td>\n",
       "      <td>7.07</td>\n",
       "    </tr>\n",
       "    <tr>\n",
       "      <th>4</th>\n",
       "      <td>Kiran</td>\n",
       "      <td>4.81</td>\n",
       "      <td>9.00</td>\n",
       "      <td>4.83</td>\n",
       "      <td>6.92</td>\n",
       "    </tr>\n",
       "    <tr>\n",
       "      <th>5</th>\n",
       "      <td>Hailey</td>\n",
       "      <td>5.75</td>\n",
       "      <td>7.01</td>\n",
       "      <td>4.35</td>\n",
       "      <td>6.38</td>\n",
       "    </tr>\n",
       "  </tbody>\n",
       "</table>\n",
       "</div>"
      ],
      "text/plain": [
       "  StudentName  Test1  Test2  Test3  FinalScore\n",
       "1       Sarah   7.59   8.33   5.31        7.96\n",
       "2      Daniel   1.58   9.46   7.88        8.67\n",
       "3      Smitha   5.86   8.29   5.45        7.07\n",
       "4       Kiran   4.81   9.00   4.83        6.92\n",
       "5      Hailey   5.75   7.01   4.35        6.38"
      ]
     },
     "execution_count": 8,
     "metadata": {},
     "output_type": "execute_result"
    }
   ],
   "source": [
    "# viewing the dataframe after adding the new column\n",
    "df"
   ]
  },
  {
   "cell_type": "code",
   "execution_count": 9,
   "metadata": {},
   "outputs": [
    {
     "data": {
      "text/html": [
       "<style  type=\"text/css\" >\n",
       "#T_8576c62c_7a86_11eb_bac9_0897987a45ffrow0_col1,#T_8576c62c_7a86_11eb_bac9_0897987a45ffrow0_col2,#T_8576c62c_7a86_11eb_bac9_0897987a45ffrow0_col3,#T_8576c62c_7a86_11eb_bac9_0897987a45ffrow0_col4,#T_8576c62c_7a86_11eb_bac9_0897987a45ffrow1_col2,#T_8576c62c_7a86_11eb_bac9_0897987a45ffrow1_col3,#T_8576c62c_7a86_11eb_bac9_0897987a45ffrow1_col4,#T_8576c62c_7a86_11eb_bac9_0897987a45ffrow2_col1,#T_8576c62c_7a86_11eb_bac9_0897987a45ffrow2_col2,#T_8576c62c_7a86_11eb_bac9_0897987a45ffrow2_col3,#T_8576c62c_7a86_11eb_bac9_0897987a45ffrow2_col4,#T_8576c62c_7a86_11eb_bac9_0897987a45ffrow3_col1,#T_8576c62c_7a86_11eb_bac9_0897987a45ffrow3_col2,#T_8576c62c_7a86_11eb_bac9_0897987a45ffrow3_col3,#T_8576c62c_7a86_11eb_bac9_0897987a45ffrow3_col4,#T_8576c62c_7a86_11eb_bac9_0897987a45ffrow4_col1,#T_8576c62c_7a86_11eb_bac9_0897987a45ffrow4_col2,#T_8576c62c_7a86_11eb_bac9_0897987a45ffrow4_col3,#T_8576c62c_7a86_11eb_bac9_0897987a45ffrow4_col4{\n",
       "            background-color:  ;\n",
       "        }#T_8576c62c_7a86_11eb_bac9_0897987a45ffrow1_col1{\n",
       "            background-color:  red;\n",
       "        }</style><table id=\"T_8576c62c_7a86_11eb_bac9_0897987a45ff\" ><thead>    <tr>        <th class=\"blank level0\" ></th>        <th class=\"col_heading level0 col0\" >StudentName</th>        <th class=\"col_heading level0 col1\" >Test1</th>        <th class=\"col_heading level0 col2\" >Test2</th>        <th class=\"col_heading level0 col3\" >Test3</th>        <th class=\"col_heading level0 col4\" >FinalScore</th>    </tr></thead><tbody>\n",
       "                <tr>\n",
       "                        <th id=\"T_8576c62c_7a86_11eb_bac9_0897987a45fflevel0_row0\" class=\"row_heading level0 row0\" >1</th>\n",
       "                        <td id=\"T_8576c62c_7a86_11eb_bac9_0897987a45ffrow0_col0\" class=\"data row0 col0\" >Sarah</td>\n",
       "                        <td id=\"T_8576c62c_7a86_11eb_bac9_0897987a45ffrow0_col1\" class=\"data row0 col1\" >7.590000</td>\n",
       "                        <td id=\"T_8576c62c_7a86_11eb_bac9_0897987a45ffrow0_col2\" class=\"data row0 col2\" >8.330000</td>\n",
       "                        <td id=\"T_8576c62c_7a86_11eb_bac9_0897987a45ffrow0_col3\" class=\"data row0 col3\" >5.310000</td>\n",
       "                        <td id=\"T_8576c62c_7a86_11eb_bac9_0897987a45ffrow0_col4\" class=\"data row0 col4\" >7.960000</td>\n",
       "            </tr>\n",
       "            <tr>\n",
       "                        <th id=\"T_8576c62c_7a86_11eb_bac9_0897987a45fflevel0_row1\" class=\"row_heading level0 row1\" >2</th>\n",
       "                        <td id=\"T_8576c62c_7a86_11eb_bac9_0897987a45ffrow1_col0\" class=\"data row1 col0\" >Daniel</td>\n",
       "                        <td id=\"T_8576c62c_7a86_11eb_bac9_0897987a45ffrow1_col1\" class=\"data row1 col1\" >1.580000</td>\n",
       "                        <td id=\"T_8576c62c_7a86_11eb_bac9_0897987a45ffrow1_col2\" class=\"data row1 col2\" >9.460000</td>\n",
       "                        <td id=\"T_8576c62c_7a86_11eb_bac9_0897987a45ffrow1_col3\" class=\"data row1 col3\" >7.880000</td>\n",
       "                        <td id=\"T_8576c62c_7a86_11eb_bac9_0897987a45ffrow1_col4\" class=\"data row1 col4\" >8.670000</td>\n",
       "            </tr>\n",
       "            <tr>\n",
       "                        <th id=\"T_8576c62c_7a86_11eb_bac9_0897987a45fflevel0_row2\" class=\"row_heading level0 row2\" >3</th>\n",
       "                        <td id=\"T_8576c62c_7a86_11eb_bac9_0897987a45ffrow2_col0\" class=\"data row2 col0\" >Smitha</td>\n",
       "                        <td id=\"T_8576c62c_7a86_11eb_bac9_0897987a45ffrow2_col1\" class=\"data row2 col1\" >5.860000</td>\n",
       "                        <td id=\"T_8576c62c_7a86_11eb_bac9_0897987a45ffrow2_col2\" class=\"data row2 col2\" >8.290000</td>\n",
       "                        <td id=\"T_8576c62c_7a86_11eb_bac9_0897987a45ffrow2_col3\" class=\"data row2 col3\" >5.450000</td>\n",
       "                        <td id=\"T_8576c62c_7a86_11eb_bac9_0897987a45ffrow2_col4\" class=\"data row2 col4\" >7.070000</td>\n",
       "            </tr>\n",
       "            <tr>\n",
       "                        <th id=\"T_8576c62c_7a86_11eb_bac9_0897987a45fflevel0_row3\" class=\"row_heading level0 row3\" >4</th>\n",
       "                        <td id=\"T_8576c62c_7a86_11eb_bac9_0897987a45ffrow3_col0\" class=\"data row3 col0\" >Kiran</td>\n",
       "                        <td id=\"T_8576c62c_7a86_11eb_bac9_0897987a45ffrow3_col1\" class=\"data row3 col1\" >4.810000</td>\n",
       "                        <td id=\"T_8576c62c_7a86_11eb_bac9_0897987a45ffrow3_col2\" class=\"data row3 col2\" >9.000000</td>\n",
       "                        <td id=\"T_8576c62c_7a86_11eb_bac9_0897987a45ffrow3_col3\" class=\"data row3 col3\" >4.830000</td>\n",
       "                        <td id=\"T_8576c62c_7a86_11eb_bac9_0897987a45ffrow3_col4\" class=\"data row3 col4\" >6.920000</td>\n",
       "            </tr>\n",
       "            <tr>\n",
       "                        <th id=\"T_8576c62c_7a86_11eb_bac9_0897987a45fflevel0_row4\" class=\"row_heading level0 row4\" >5</th>\n",
       "                        <td id=\"T_8576c62c_7a86_11eb_bac9_0897987a45ffrow4_col0\" class=\"data row4 col0\" >Hailey</td>\n",
       "                        <td id=\"T_8576c62c_7a86_11eb_bac9_0897987a45ffrow4_col1\" class=\"data row4 col1\" >5.750000</td>\n",
       "                        <td id=\"T_8576c62c_7a86_11eb_bac9_0897987a45ffrow4_col2\" class=\"data row4 col2\" >7.010000</td>\n",
       "                        <td id=\"T_8576c62c_7a86_11eb_bac9_0897987a45ffrow4_col3\" class=\"data row4 col3\" >4.350000</td>\n",
       "                        <td id=\"T_8576c62c_7a86_11eb_bac9_0897987a45ffrow4_col4\" class=\"data row4 col4\" >6.380000</td>\n",
       "            </tr>\n",
       "    </tbody></table>"
      ],
      "text/plain": [
       "<pandas.io.formats.style.Styler at 0x27632f30be0>"
      ]
     },
     "execution_count": 9,
     "metadata": {},
     "output_type": "execute_result"
    }
   ],
   "source": [
    "# if a student has scored below 4, he/she has failed and will have to re-attempt the class.\n",
    "# the below dataframe highlights the scores below 4\n",
    "\n",
    "df.style.applymap(lambda x: \"background-color: red\" if x<4 else \"background-color: \", subset=df.columns[1:5])"
   ]
  },
  {
   "cell_type": "code",
   "execution_count": 10,
   "metadata": {},
   "outputs": [],
   "source": [
    "# finally let's add a column which explicitly states whether or not a student has passed\n",
    "\n",
    "def result(FinalScore, StudentName):\n",
    "    if FinalScore < 4:\n",
    "        return 'fail'\n",
    "    else:\n",
    "        return 'pass'\n",
    "\n",
    "df['Result'] = df.apply(lambda row : result(row['FinalScore'], row['StudentName']), axis = 1)"
   ]
  },
  {
   "cell_type": "code",
   "execution_count": 11,
   "metadata": {
    "scrolled": true
   },
   "outputs": [
    {
     "data": {
      "text/html": [
       "<div>\n",
       "<style scoped>\n",
       "    .dataframe tbody tr th:only-of-type {\n",
       "        vertical-align: middle;\n",
       "    }\n",
       "\n",
       "    .dataframe tbody tr th {\n",
       "        vertical-align: top;\n",
       "    }\n",
       "\n",
       "    .dataframe thead th {\n",
       "        text-align: right;\n",
       "    }\n",
       "</style>\n",
       "<table border=\"1\" class=\"dataframe\">\n",
       "  <thead>\n",
       "    <tr style=\"text-align: right;\">\n",
       "      <th></th>\n",
       "      <th>StudentName</th>\n",
       "      <th>Test1</th>\n",
       "      <th>Test2</th>\n",
       "      <th>Test3</th>\n",
       "      <th>FinalScore</th>\n",
       "      <th>Result</th>\n",
       "    </tr>\n",
       "  </thead>\n",
       "  <tbody>\n",
       "    <tr>\n",
       "      <th>1</th>\n",
       "      <td>Sarah</td>\n",
       "      <td>7.59</td>\n",
       "      <td>8.33</td>\n",
       "      <td>5.31</td>\n",
       "      <td>7.96</td>\n",
       "      <td>pass</td>\n",
       "    </tr>\n",
       "    <tr>\n",
       "      <th>2</th>\n",
       "      <td>Daniel</td>\n",
       "      <td>1.58</td>\n",
       "      <td>9.46</td>\n",
       "      <td>7.88</td>\n",
       "      <td>8.67</td>\n",
       "      <td>pass</td>\n",
       "    </tr>\n",
       "    <tr>\n",
       "      <th>3</th>\n",
       "      <td>Smitha</td>\n",
       "      <td>5.86</td>\n",
       "      <td>8.29</td>\n",
       "      <td>5.45</td>\n",
       "      <td>7.07</td>\n",
       "      <td>pass</td>\n",
       "    </tr>\n",
       "    <tr>\n",
       "      <th>4</th>\n",
       "      <td>Kiran</td>\n",
       "      <td>4.81</td>\n",
       "      <td>9.00</td>\n",
       "      <td>4.83</td>\n",
       "      <td>6.92</td>\n",
       "      <td>pass</td>\n",
       "    </tr>\n",
       "    <tr>\n",
       "      <th>5</th>\n",
       "      <td>Hailey</td>\n",
       "      <td>5.75</td>\n",
       "      <td>7.01</td>\n",
       "      <td>4.35</td>\n",
       "      <td>6.38</td>\n",
       "      <td>pass</td>\n",
       "    </tr>\n",
       "  </tbody>\n",
       "</table>\n",
       "</div>"
      ],
      "text/plain": [
       "  StudentName  Test1  Test2  Test3  FinalScore Result\n",
       "1       Sarah   7.59   8.33   5.31        7.96   pass\n",
       "2      Daniel   1.58   9.46   7.88        8.67   pass\n",
       "3      Smitha   5.86   8.29   5.45        7.07   pass\n",
       "4       Kiran   4.81   9.00   4.83        6.92   pass\n",
       "5      Hailey   5.75   7.01   4.35        6.38   pass"
      ]
     },
     "execution_count": 11,
     "metadata": {},
     "output_type": "execute_result"
    }
   ],
   "source": [
    "df"
   ]
  },
  {
   "cell_type": "code",
   "execution_count": 12,
   "metadata": {},
   "outputs": [
    {
     "data": {
      "text/html": [
       "<style  type=\"text/css\" >\n",
       "#T_858861dd_7a86_11eb_8c77_0897987a45ffrow0_col5,#T_858861dd_7a86_11eb_8c77_0897987a45ffrow1_col5,#T_858861dd_7a86_11eb_8c77_0897987a45ffrow2_col5,#T_858861dd_7a86_11eb_8c77_0897987a45ffrow3_col5,#T_858861dd_7a86_11eb_8c77_0897987a45ffrow4_col5{\n",
       "            background-color:  lime;\n",
       "        }</style><table id=\"T_858861dd_7a86_11eb_8c77_0897987a45ff\" ><thead>    <tr>        <th class=\"blank level0\" ></th>        <th class=\"col_heading level0 col0\" >StudentName</th>        <th class=\"col_heading level0 col1\" >Test1</th>        <th class=\"col_heading level0 col2\" >Test2</th>        <th class=\"col_heading level0 col3\" >Test3</th>        <th class=\"col_heading level0 col4\" >FinalScore</th>        <th class=\"col_heading level0 col5\" >Result</th>    </tr></thead><tbody>\n",
       "                <tr>\n",
       "                        <th id=\"T_858861dd_7a86_11eb_8c77_0897987a45fflevel0_row0\" class=\"row_heading level0 row0\" >1</th>\n",
       "                        <td id=\"T_858861dd_7a86_11eb_8c77_0897987a45ffrow0_col0\" class=\"data row0 col0\" >Sarah</td>\n",
       "                        <td id=\"T_858861dd_7a86_11eb_8c77_0897987a45ffrow0_col1\" class=\"data row0 col1\" >7.590000</td>\n",
       "                        <td id=\"T_858861dd_7a86_11eb_8c77_0897987a45ffrow0_col2\" class=\"data row0 col2\" >8.330000</td>\n",
       "                        <td id=\"T_858861dd_7a86_11eb_8c77_0897987a45ffrow0_col3\" class=\"data row0 col3\" >5.310000</td>\n",
       "                        <td id=\"T_858861dd_7a86_11eb_8c77_0897987a45ffrow0_col4\" class=\"data row0 col4\" >7.960000</td>\n",
       "                        <td id=\"T_858861dd_7a86_11eb_8c77_0897987a45ffrow0_col5\" class=\"data row0 col5\" >pass</td>\n",
       "            </tr>\n",
       "            <tr>\n",
       "                        <th id=\"T_858861dd_7a86_11eb_8c77_0897987a45fflevel0_row1\" class=\"row_heading level0 row1\" >2</th>\n",
       "                        <td id=\"T_858861dd_7a86_11eb_8c77_0897987a45ffrow1_col0\" class=\"data row1 col0\" >Daniel</td>\n",
       "                        <td id=\"T_858861dd_7a86_11eb_8c77_0897987a45ffrow1_col1\" class=\"data row1 col1\" >1.580000</td>\n",
       "                        <td id=\"T_858861dd_7a86_11eb_8c77_0897987a45ffrow1_col2\" class=\"data row1 col2\" >9.460000</td>\n",
       "                        <td id=\"T_858861dd_7a86_11eb_8c77_0897987a45ffrow1_col3\" class=\"data row1 col3\" >7.880000</td>\n",
       "                        <td id=\"T_858861dd_7a86_11eb_8c77_0897987a45ffrow1_col4\" class=\"data row1 col4\" >8.670000</td>\n",
       "                        <td id=\"T_858861dd_7a86_11eb_8c77_0897987a45ffrow1_col5\" class=\"data row1 col5\" >pass</td>\n",
       "            </tr>\n",
       "            <tr>\n",
       "                        <th id=\"T_858861dd_7a86_11eb_8c77_0897987a45fflevel0_row2\" class=\"row_heading level0 row2\" >3</th>\n",
       "                        <td id=\"T_858861dd_7a86_11eb_8c77_0897987a45ffrow2_col0\" class=\"data row2 col0\" >Smitha</td>\n",
       "                        <td id=\"T_858861dd_7a86_11eb_8c77_0897987a45ffrow2_col1\" class=\"data row2 col1\" >5.860000</td>\n",
       "                        <td id=\"T_858861dd_7a86_11eb_8c77_0897987a45ffrow2_col2\" class=\"data row2 col2\" >8.290000</td>\n",
       "                        <td id=\"T_858861dd_7a86_11eb_8c77_0897987a45ffrow2_col3\" class=\"data row2 col3\" >5.450000</td>\n",
       "                        <td id=\"T_858861dd_7a86_11eb_8c77_0897987a45ffrow2_col4\" class=\"data row2 col4\" >7.070000</td>\n",
       "                        <td id=\"T_858861dd_7a86_11eb_8c77_0897987a45ffrow2_col5\" class=\"data row2 col5\" >pass</td>\n",
       "            </tr>\n",
       "            <tr>\n",
       "                        <th id=\"T_858861dd_7a86_11eb_8c77_0897987a45fflevel0_row3\" class=\"row_heading level0 row3\" >4</th>\n",
       "                        <td id=\"T_858861dd_7a86_11eb_8c77_0897987a45ffrow3_col0\" class=\"data row3 col0\" >Kiran</td>\n",
       "                        <td id=\"T_858861dd_7a86_11eb_8c77_0897987a45ffrow3_col1\" class=\"data row3 col1\" >4.810000</td>\n",
       "                        <td id=\"T_858861dd_7a86_11eb_8c77_0897987a45ffrow3_col2\" class=\"data row3 col2\" >9.000000</td>\n",
       "                        <td id=\"T_858861dd_7a86_11eb_8c77_0897987a45ffrow3_col3\" class=\"data row3 col3\" >4.830000</td>\n",
       "                        <td id=\"T_858861dd_7a86_11eb_8c77_0897987a45ffrow3_col4\" class=\"data row3 col4\" >6.920000</td>\n",
       "                        <td id=\"T_858861dd_7a86_11eb_8c77_0897987a45ffrow3_col5\" class=\"data row3 col5\" >pass</td>\n",
       "            </tr>\n",
       "            <tr>\n",
       "                        <th id=\"T_858861dd_7a86_11eb_8c77_0897987a45fflevel0_row4\" class=\"row_heading level0 row4\" >5</th>\n",
       "                        <td id=\"T_858861dd_7a86_11eb_8c77_0897987a45ffrow4_col0\" class=\"data row4 col0\" >Hailey</td>\n",
       "                        <td id=\"T_858861dd_7a86_11eb_8c77_0897987a45ffrow4_col1\" class=\"data row4 col1\" >5.750000</td>\n",
       "                        <td id=\"T_858861dd_7a86_11eb_8c77_0897987a45ffrow4_col2\" class=\"data row4 col2\" >7.010000</td>\n",
       "                        <td id=\"T_858861dd_7a86_11eb_8c77_0897987a45ffrow4_col3\" class=\"data row4 col3\" >4.350000</td>\n",
       "                        <td id=\"T_858861dd_7a86_11eb_8c77_0897987a45ffrow4_col4\" class=\"data row4 col4\" >6.380000</td>\n",
       "                        <td id=\"T_858861dd_7a86_11eb_8c77_0897987a45ffrow4_col5\" class=\"data row4 col5\" >pass</td>\n",
       "            </tr>\n",
       "    </tbody></table>"
      ],
      "text/plain": [
       "<pandas.io.formats.style.Styler at 0x27632f303a0>"
      ]
     },
     "execution_count": 12,
     "metadata": {},
     "output_type": "execute_result"
    }
   ],
   "source": [
    "df.style.applymap(lambda x: \"background-color: red\" if x=='fail' else \"background-color: lime\", subset=['Result'])"
   ]
  },
  {
   "cell_type": "code",
   "execution_count": 13,
   "metadata": {},
   "outputs": [],
   "source": [
    "df.style.applymap(lambda x: \"background-color: red\" if x=='fail' else \"background-color: lime\", subset=['Result']).to_excel('Result.xlsx')"
   ]
  },
  {
   "cell_type": "markdown",
   "metadata": {},
   "source": [
    "### data set 2"
   ]
  },
  {
   "cell_type": "code",
   "execution_count": 14,
   "metadata": {},
   "outputs": [],
   "source": [
    "df2 = pd.read_csv('student-mat.csv', sep=';')"
   ]
  },
  {
   "cell_type": "code",
   "execution_count": 15,
   "metadata": {},
   "outputs": [
    {
     "data": {
      "text/html": [
       "<div>\n",
       "<style scoped>\n",
       "    .dataframe tbody tr th:only-of-type {\n",
       "        vertical-align: middle;\n",
       "    }\n",
       "\n",
       "    .dataframe tbody tr th {\n",
       "        vertical-align: top;\n",
       "    }\n",
       "\n",
       "    .dataframe thead th {\n",
       "        text-align: right;\n",
       "    }\n",
       "</style>\n",
       "<table border=\"1\" class=\"dataframe\">\n",
       "  <thead>\n",
       "    <tr style=\"text-align: right;\">\n",
       "      <th></th>\n",
       "      <th>school</th>\n",
       "      <th>sex</th>\n",
       "      <th>age</th>\n",
       "      <th>address</th>\n",
       "      <th>health</th>\n",
       "      <th>absences</th>\n",
       "      <th>G1</th>\n",
       "      <th>G2</th>\n",
       "      <th>G3</th>\n",
       "    </tr>\n",
       "  </thead>\n",
       "  <tbody>\n",
       "    <tr>\n",
       "      <th>0</th>\n",
       "      <td>GP</td>\n",
       "      <td>F</td>\n",
       "      <td>18</td>\n",
       "      <td>U</td>\n",
       "      <td>3.0</td>\n",
       "      <td>6.0</td>\n",
       "      <td>5</td>\n",
       "      <td>6</td>\n",
       "      <td>6</td>\n",
       "    </tr>\n",
       "    <tr>\n",
       "      <th>1</th>\n",
       "      <td>GP</td>\n",
       "      <td>F</td>\n",
       "      <td>17</td>\n",
       "      <td>U</td>\n",
       "      <td>3.0</td>\n",
       "      <td>4.0</td>\n",
       "      <td>5</td>\n",
       "      <td>5</td>\n",
       "      <td>6</td>\n",
       "    </tr>\n",
       "    <tr>\n",
       "      <th>2</th>\n",
       "      <td>GP</td>\n",
       "      <td>F</td>\n",
       "      <td>15</td>\n",
       "      <td>U</td>\n",
       "      <td>3.0</td>\n",
       "      <td>10.0</td>\n",
       "      <td>7</td>\n",
       "      <td>8</td>\n",
       "      <td>10</td>\n",
       "    </tr>\n",
       "    <tr>\n",
       "      <th>3</th>\n",
       "      <td>GP</td>\n",
       "      <td>F</td>\n",
       "      <td>15</td>\n",
       "      <td>U</td>\n",
       "      <td>5.0</td>\n",
       "      <td>2.0</td>\n",
       "      <td>15</td>\n",
       "      <td>14</td>\n",
       "      <td>15</td>\n",
       "    </tr>\n",
       "    <tr>\n",
       "      <th>4</th>\n",
       "      <td>GP</td>\n",
       "      <td>F</td>\n",
       "      <td>16</td>\n",
       "      <td>U</td>\n",
       "      <td>5.0</td>\n",
       "      <td>4.0</td>\n",
       "      <td>6</td>\n",
       "      <td>10</td>\n",
       "      <td>10</td>\n",
       "    </tr>\n",
       "  </tbody>\n",
       "</table>\n",
       "</div>"
      ],
      "text/plain": [
       "  school sex  age address  health  absences  G1  G2  G3\n",
       "0     GP   F   18       U     3.0       6.0   5   6   6\n",
       "1     GP   F   17       U     3.0       4.0   5   5   6\n",
       "2     GP   F   15       U     3.0      10.0   7   8  10\n",
       "3     GP   F   15       U     5.0       2.0  15  14  15\n",
       "4     GP   F   16       U     5.0       4.0   6  10  10"
      ]
     },
     "execution_count": 15,
     "metadata": {},
     "output_type": "execute_result"
    }
   ],
   "source": [
    "df2.head()"
   ]
  },
  {
   "cell_type": "code",
   "execution_count": 16,
   "metadata": {},
   "outputs": [
    {
     "name": "stdout",
     "output_type": "stream",
     "text": [
      "<class 'pandas.core.frame.DataFrame'>\n",
      "RangeIndex: 395 entries, 0 to 394\n",
      "Data columns (total 9 columns):\n",
      " #   Column    Non-Null Count  Dtype  \n",
      "---  ------    --------------  -----  \n",
      " 0   school    395 non-null    object \n",
      " 1   sex       395 non-null    object \n",
      " 2   age       395 non-null    int64  \n",
      " 3   address   378 non-null    object \n",
      " 4   health    384 non-null    float64\n",
      " 5   absences  380 non-null    float64\n",
      " 6   G1        395 non-null    int64  \n",
      " 7   G2        395 non-null    int64  \n",
      " 8   G3        395 non-null    int64  \n",
      "dtypes: float64(2), int64(4), object(3)\n",
      "memory usage: 27.9+ KB\n"
     ]
    }
   ],
   "source": [
    "df2.info()"
   ]
  },
  {
   "cell_type": "code",
   "execution_count": 17,
   "metadata": {
    "scrolled": false
   },
   "outputs": [
    {
     "data": {
      "text/plain": [
       "school       0\n",
       "sex          0\n",
       "age          0\n",
       "address     17\n",
       "health      11\n",
       "absences    15\n",
       "G1           0\n",
       "G2           0\n",
       "G3           0\n",
       "dtype: int64"
      ]
     },
     "execution_count": 17,
     "metadata": {},
     "output_type": "execute_result"
    }
   ],
   "source": [
    "df2.isnull().sum()"
   ]
  },
  {
   "cell_type": "code",
   "execution_count": 18,
   "metadata": {},
   "outputs": [
    {
     "data": {
      "text/html": [
       "<div>\n",
       "<style scoped>\n",
       "    .dataframe tbody tr th:only-of-type {\n",
       "        vertical-align: middle;\n",
       "    }\n",
       "\n",
       "    .dataframe tbody tr th {\n",
       "        vertical-align: top;\n",
       "    }\n",
       "\n",
       "    .dataframe thead th {\n",
       "        text-align: right;\n",
       "    }\n",
       "</style>\n",
       "<table border=\"1\" class=\"dataframe\">\n",
       "  <thead>\n",
       "    <tr style=\"text-align: right;\">\n",
       "      <th></th>\n",
       "      <th>Total</th>\n",
       "      <th>%</th>\n",
       "    </tr>\n",
       "  </thead>\n",
       "  <tbody>\n",
       "    <tr>\n",
       "      <th>address</th>\n",
       "      <td>17</td>\n",
       "      <td>4.3</td>\n",
       "    </tr>\n",
       "    <tr>\n",
       "      <th>absences</th>\n",
       "      <td>15</td>\n",
       "      <td>3.8</td>\n",
       "    </tr>\n",
       "    <tr>\n",
       "      <th>health</th>\n",
       "      <td>11</td>\n",
       "      <td>2.8</td>\n",
       "    </tr>\n",
       "    <tr>\n",
       "      <th>G3</th>\n",
       "      <td>0</td>\n",
       "      <td>0.0</td>\n",
       "    </tr>\n",
       "    <tr>\n",
       "      <th>G2</th>\n",
       "      <td>0</td>\n",
       "      <td>0.0</td>\n",
       "    </tr>\n",
       "    <tr>\n",
       "      <th>G1</th>\n",
       "      <td>0</td>\n",
       "      <td>0.0</td>\n",
       "    </tr>\n",
       "    <tr>\n",
       "      <th>age</th>\n",
       "      <td>0</td>\n",
       "      <td>0.0</td>\n",
       "    </tr>\n",
       "    <tr>\n",
       "      <th>sex</th>\n",
       "      <td>0</td>\n",
       "      <td>0.0</td>\n",
       "    </tr>\n",
       "    <tr>\n",
       "      <th>school</th>\n",
       "      <td>0</td>\n",
       "      <td>0.0</td>\n",
       "    </tr>\n",
       "  </tbody>\n",
       "</table>\n",
       "</div>"
      ],
      "text/plain": [
       "          Total    %\n",
       "address      17  4.3\n",
       "absences     15  3.8\n",
       "health       11  2.8\n",
       "G3            0  0.0\n",
       "G2            0  0.0\n",
       "G1            0  0.0\n",
       "age           0  0.0\n",
       "sex           0  0.0\n",
       "school        0  0.0"
      ]
     },
     "execution_count": 18,
     "metadata": {},
     "output_type": "execute_result"
    }
   ],
   "source": [
    "# finding the number of missing records and its percentage\n",
    "\n",
    "total = df2.isnull().sum().sort_values(ascending=False)\n",
    "percent = (round((df2.isnull().sum()/df2.isnull().count()*100),1)).sort_values(ascending=False)\n",
    "missing_data = pd.concat([total, percent], axis=1, keys=['Total', '%'])\n",
    "missing_data"
   ]
  },
  {
   "cell_type": "code",
   "execution_count": 19,
   "metadata": {},
   "outputs": [],
   "source": [
    "# dropping the null records from health and absences columns since it is a small percentage\n",
    "df2.dropna(subset=['health', 'absences'], inplace=True)"
   ]
  },
  {
   "cell_type": "code",
   "execution_count": 20,
   "metadata": {},
   "outputs": [
    {
     "data": {
      "text/plain": [
       "school       0\n",
       "sex          0\n",
       "age          0\n",
       "address     15\n",
       "health       0\n",
       "absences     0\n",
       "G1           0\n",
       "G2           0\n",
       "G3           0\n",
       "dtype: int64"
      ]
     },
     "execution_count": 20,
     "metadata": {},
     "output_type": "execute_result"
    }
   ],
   "source": [
    "df2.isnull().sum()"
   ]
  },
  {
   "cell_type": "code",
   "execution_count": 21,
   "metadata": {},
   "outputs": [],
   "source": [
    "# to handle missing data in address column, we can replace the Nan values with the most frequently occuring category in the column\n",
    "# this method has a the disadvantage that it may imbalance the dataset\n",
    "\n",
    "df2.fillna(value = df2['address'].value_counts().idxmax(), inplace=True)\n"
   ]
  },
  {
   "cell_type": "code",
   "execution_count": 25,
   "metadata": {},
   "outputs": [
    {
     "data": {
      "text/plain": [
       "school      0\n",
       "sex         0\n",
       "age         0\n",
       "address     0\n",
       "health      0\n",
       "absences    0\n",
       "G1          0\n",
       "G2          0\n",
       "G3          0\n",
       "dtype: int64"
      ]
     },
     "execution_count": 25,
     "metadata": {},
     "output_type": "execute_result"
    }
   ],
   "source": [
    "df2.isnull().sum()"
   ]
  },
  {
   "cell_type": "markdown",
   "metadata": {},
   "source": [
    "                                                    ---x----  end  ----x---"
   ]
  }
 ],
 "metadata": {
  "kernelspec": {
   "display_name": "Python 3",
   "language": "python",
   "name": "python3"
  },
  "language_info": {
   "codemirror_mode": {
    "name": "ipython",
    "version": 3
   },
   "file_extension": ".py",
   "mimetype": "text/x-python",
   "name": "python",
   "nbconvert_exporter": "python",
   "pygments_lexer": "ipython3",
   "version": "3.8.3"
  }
 },
 "nbformat": 4,
 "nbformat_minor": 4
}
